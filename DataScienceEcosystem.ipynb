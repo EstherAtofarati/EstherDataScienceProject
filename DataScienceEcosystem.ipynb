{
 "cells": [
  {
   "cell_type": "markdown",
   "id": "e2630980",
   "metadata": {},
   "source": [
    "# Data Science Tools and Ecosystem"
   ]
  },
  {
   "cell_type": "markdown",
   "id": "18ab9fdd",
   "metadata": {},
   "source": [
    "### In this notebook, Data Science Tools and Ecosystem are summarized"
   ]
  },
  {
   "cell_type": "markdown",
   "id": "a6bf40d5",
   "metadata": {},
   "source": [
    "# Some of the popular languages that Data Scientists use are:\n",
    " 1. Python \n",
    " 2. R\n",
    " 3. Julia "
   ]
  },
  {
   "cell_type": "markdown",
   "id": "d5857a26",
   "metadata": {},
   "source": [
    "# Some of the commonly used libraries used by Data Scientists include:\n",
    " 1. numpy\n",
    " 2. seaborn\n",
    " 3. dplyr\n",
    " 4. ggplot"
   ]
  },
  {
   "cell_type": "markdown",
   "id": "759c8bb2",
   "metadata": {},
   "source": [
    "# Data Science Tools\n",
    " 1. RStudio.\n",
    " 2. Apache Spark.\n",
    " 3. TensorFlow"
   ]
  },
  {
   "cell_type": "markdown",
   "id": "e215e690",
   "metadata": {},
   "source": [
    "### | Data Science Tools |\n",
    "####  |---------------------------|\n",
    "####  |Tableau |\n",
    "####  | Scikit-learn |\n",
    "####  | Matplotlib |\n",
    "####  | Apache Spark |\n"
   ]
  },
  {
   "cell_type": "markdown",
   "id": "be656610",
   "metadata": {},
   "source": [
    "### Below are a few examples of evaluating arithmetic expressions in Python\n",
    "$ + $, \n",
    "$ - $, \n",
    "$ True $, \n",
    "$ \"\" $"
   ]
  },
  {
   "cell_type": "code",
   "execution_count": 1,
   "id": "fe14f287",
   "metadata": {},
   "outputs": [
    {
     "data": {
      "text/plain": [
       "17"
      ]
     },
     "execution_count": 1,
     "metadata": {},
     "output_type": "execute_result"
    }
   ],
   "source": [
    "# This a simple arithmetic expression to mutiply then add integers\n",
    "(3*4)+5"
   ]
  },
  {
   "cell_type": "code",
   "execution_count": 2,
   "id": "f14ced21",
   "metadata": {},
   "outputs": [
    {
     "data": {
      "text/plain": [
       "3.3333333333333335"
      ]
     },
     "execution_count": 2,
     "metadata": {},
     "output_type": "execute_result"
    }
   ],
   "source": [
    "# This will convert 200 minutes to hours by diving by 60\n",
    "200/60"
   ]
  },
  {
   "cell_type": "markdown",
   "id": "6f379973",
   "metadata": {},
   "source": [
    "# Objectives: unordered list\n",
    "Python \n",
    "R \n",
    "Julia \n",
    "SQL \n",
    "Java"
   ]
  },
  {
   "cell_type": "markdown",
   "id": "0731698c",
   "metadata": {},
   "source": [
    "## Author:\n",
    "Esther Atofarati"
   ]
  },
  {
   "cell_type": "code",
   "execution_count": null,
   "id": "e0ddde7f",
   "metadata": {},
   "outputs": [],
   "source": []
  }
 ],
 "metadata": {
  "kernelspec": {
   "display_name": "Python 3 (ipykernel)",
   "language": "python",
   "name": "python3"
  },
  "language_info": {
   "codemirror_mode": {
    "name": "ipython",
    "version": 3
   },
   "file_extension": ".py",
   "mimetype": "text/x-python",
   "name": "python",
   "nbconvert_exporter": "python",
   "pygments_lexer": "ipython3",
   "version": "3.10.1"
  }
 },
 "nbformat": 4,
 "nbformat_minor": 5
}
